{
 "cells": [
  {
   "cell_type": "code",
   "execution_count": 1,
   "id": "8388987f",
   "metadata": {},
   "outputs": [],
   "source": [
    "# SEE IF SUPERCLASS(CAR) classifier works. chose ResNet50 for speed/accuracy balance\n",
    "# https://keras.io/api/applications/#usage-examples-for-image-classification-models"
   ]
  },
  {
   "cell_type": "code",
   "execution_count": 2,
   "id": "e7fc9bb4",
   "metadata": {},
   "outputs": [
    {
     "name": "stdout",
     "output_type": "stream",
     "text": [
      "WARNING:tensorflow:From c:\\users\\shio\\pycharmprojects\\ot\\venv\\lib\\site-packages\\tensorflow_core\\python\\ops\\resource_variable_ops.py:1630: calling BaseResourceVariable.__init__ (from tensorflow.python.ops.resource_variable_ops) with constraint is deprecated and will be removed in a future version.\n",
      "Instructions for updating:\n",
      "If using Keras pass *_constraint arguments to layers.\n"
     ]
    }
   ],
   "source": [
    "from tensorflow.keras.applications.resnet50 import ResNet50\n",
    "from tensorflow.keras.preprocessing import image\n",
    "from tensorflow.keras.applications.resnet50 import preprocess_input, decode_predictions\n",
    "import numpy as np\n",
    "import matplotlib.pyplot as plt\n",
    "import os,random\n",
    "import re, shutil, tqdm\n",
    "from os import listdir, mkdir\n",
    "from os.path import isfile, join, isdir\n",
    "\n",
    "working_dir = 'Car_12class_raw'\n",
    "model = ResNet50(weights='imagenet')\n",
    "\n",
    "#listdir(working_dir)   # sometimes useful"
   ]
  },
  {
   "cell_type": "code",
   "execution_count": 3,
   "id": "870086ec",
   "metadata": {
    "scrolled": false
   },
   "outputs": [
    {
     "name": "stderr",
     "output_type": "stream",
     "text": [
      "100%|██████████████████████████████████████████████████████████████████████████| 30173/30173 [13:12<00:00, 38.08it/s]\n"
     ]
    }
   ],
   "source": [
    "tag_set = {'ambulance','beach_wagon','cab','convertible','jeep','limousine','minibus','minivan','moving_van','pickup','racer','sports_car'}\n",
    "for f in tqdm.tqdm(listdir(working_dir)):\n",
    "    img_path = join(working_dir, f)\n",
    "\n",
    "    img = image.load_img(img_path, target_size=(224, 224))\n",
    "    x = image.img_to_array(img)\n",
    "    x = np.expand_dims(x, axis=0)\n",
    "    x = preprocess_input(x)\n",
    "\n",
    "    preds = model.predict(x)\n",
    "\n",
    "    if [p[1] for p in decode_predictions(preds, top=2)[0]][0] not in tag_set and \\\n",
    "    [p[1] for p in decode_predictions(preds, top=2)[0]][1] not in tag_set:\n",
    "        #plt.imshow(img)\n",
    "        #plt.show()\n",
    "        os.rename(img_path, join(working_dir, 'NOTCAR_'+f))"
   ]
  }
 ],
 "metadata": {
  "kernelspec": {
   "display_name": "Python 3 (ipykernel)",
   "language": "python",
   "name": "python3"
  },
  "language_info": {
   "codemirror_mode": {
    "name": "ipython",
    "version": 3
   },
   "file_extension": ".py",
   "mimetype": "text/x-python",
   "name": "python",
   "nbconvert_exporter": "python",
   "pygments_lexer": "ipython3",
   "version": "3.7.9"
  }
 },
 "nbformat": 4,
 "nbformat_minor": 5
}
