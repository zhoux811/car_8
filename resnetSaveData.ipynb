{
 "cells": [
  {
   "cell_type": "code",
   "execution_count": 1,
   "id": "5eb701c3",
   "metadata": {},
   "outputs": [],
   "source": [
    "# https://pylessons.com/Keras-ResNet-tutorial/"
   ]
  },
  {
   "cell_type": "code",
   "execution_count": 2,
   "id": "b5f5304e",
   "metadata": {},
   "outputs": [
    {
     "name": "stderr",
     "output_type": "stream",
     "text": [
      "Using TensorFlow backend.\n",
      "4325it [00:02, 2118.58it/s]\n",
      "397it [00:00, 2297.36it/s]\n"
     ]
    },
    {
     "name": "stdout",
     "output_type": "stream",
     "text": [
      "success\n"
     ]
    }
   ],
   "source": [
    "import os, tqdm, random\n",
    "#os.environ['CUDA_VISIBLE_DEVICES'] = '0'\n",
    "import cv2\n",
    "import numpy as np\n",
    "from keras import layers\n",
    "from keras.layers import Input, Add, Dense, Activation, ZeroPadding2D, BatchNormalization, Flatten, Conv2D, AveragePooling2D, MaxPooling2D\n",
    "from keras.models import Model, load_model\n",
    "from keras.initializers import glorot_uniform\n",
    "from keras.utils import plot_model\n",
    "from IPython.display import SVG\n",
    "from keras.utils.vis_utils import model_to_dot\n",
    "import keras.backend as K\n",
    "import tensorflow as tf\n",
    "\n",
    "ROWS = 150  # width!!???\n",
    "COLS = 150  # height!!!!????\n",
    "CHANNELS = 3\n",
    "CLASSES = 3\n",
    "\n",
    "\n",
    "def read_image(file_path):\n",
    "    img = cv2.imread(file_path, cv2.IMREAD_COLOR)\n",
    "    #print(file_path)\n",
    "    return cv2.resize(img, (ROWS, COLS), interpolation=cv2.INTER_CUBIC)\n",
    "    # return cv2.resize(img, (ROWS, COLS), interpolation=cv2.INTER_AREA )     # wanted to changed here\n",
    "\n",
    "\n",
    "def prepare_data(images):\n",
    "    m = len(images)\n",
    "    X = np.zeros((m, ROWS, COLS, CHANNELS), dtype=np.uint8)\n",
    "    y = np.zeros((1, m), dtype=np.uint8)\n",
    "    for i, image_file in tqdm.tqdm(enumerate(images)):\n",
    "        X[i, :] = read_image(image_file)\n",
    "        \n",
    "        \n",
    "        if 'toyota_camry_12_14' in image_file.lower():\n",
    "            y[0, i] = 0\n",
    "        elif 'toyota_camry_15_17' in image_file.lower():\n",
    "            y[0, i] = 1\n",
    "        elif 'toyota_camry_18_21' in image_file.lower():\n",
    "            y[0, i] = 2\n",
    "            \n",
    "            \n",
    "            \n",
    "    return X, y\n",
    "\n",
    "\n",
    "def convert_to_one_hot(Y, C):\n",
    "    Y = np.eye(C)[Y.reshape(-1)].T\n",
    "    return Y\n",
    "\n",
    "TRAIN_DIR = 'Car_3classes_DLSeclect_ResnetFormat/train/'\n",
    "TEST_DIR = 'Car_3classes_DLSeclect_ResnetFormat/test/'\n",
    "\n",
    "# shuffle file order\n",
    "TRAIN_FILES, TEST_FILES = os.listdir(TRAIN_DIR),os.listdir(TEST_DIR)\n",
    "random.shuffle(TRAIN_FILES)\n",
    "random.shuffle(TEST_FILES)\n",
    "\n",
    "\n",
    "train_images = [TRAIN_DIR+i for i in TRAIN_FILES]\n",
    "test_images =  [TEST_DIR+i for i in TEST_FILES]\n",
    "\n",
    "train_set_x, train_set_y = prepare_data(train_images)\n",
    "test_set_x, test_set_y = prepare_data(test_images)\n",
    "\n",
    "X_train = train_set_x/255\n",
    "X_test = test_set_x/255\n",
    "\n",
    "Y_train = convert_to_one_hot(train_set_y, CLASSES).T\n",
    "Y_test = convert_to_one_hot(test_set_y, CLASSES).T\n",
    "\n",
    "print('success')"
   ]
  },
  {
   "cell_type": "code",
   "execution_count": 3,
   "id": "b31c1a7a",
   "metadata": {},
   "outputs": [
    {
     "name": "stdout",
     "output_type": "stream",
     "text": [
      "number of training examples = 4325\n",
      "number of test examples = 397\n",
      "X_train shape: (4325, 150, 150, 3)\n",
      "Y_train shape: (4325, 3)\n",
      "X_test shape: (397, 150, 150, 3)\n",
      "Y_test shape: (397, 3)\n"
     ]
    }
   ],
   "source": [
    "print (\"number of training examples =\", X_train.shape[0])\n",
    "print (\"number of test examples =\", X_test.shape[0])\n",
    "print (\"X_train shape:\", X_train.shape)\n",
    "print (\"Y_train shape:\", Y_train.shape)\n",
    "print (\"X_test shape:\", X_test.shape)\n",
    "print (\"Y_test shape:\", Y_test.shape)"
   ]
  },
  {
   "cell_type": "code",
   "execution_count": 4,
   "id": "45c58e8c",
   "metadata": {},
   "outputs": [],
   "source": [
    "#TRAIN_FILES"
   ]
  },
  {
   "cell_type": "code",
   "execution_count": 5,
   "id": "c1c9dc29",
   "metadata": {},
   "outputs": [
    {
     "data": {
      "text/plain": [
       "'pickle success'"
      ]
     },
     "execution_count": 5,
     "metadata": {},
     "output_type": "execute_result"
    }
   ],
   "source": [
    "import pickle\n",
    "\n",
    "pickle_out = open(\"X_train_3classes_DLSeclect.pickle\",\"wb\")\n",
    "pickle.dump(X_train, pickle_out, protocol=4)\n",
    "pickle_out.close()\n",
    "\n",
    "pickle_out = open(\"Y_train_3classes_DLSeclect.pickle\",\"wb\")\n",
    "pickle.dump(Y_train, pickle_out, protocol=4)\n",
    "pickle_out.close()\n",
    "\n",
    "pickle_out = open(\"X_test_3classes_DLSeclect.pickle\",\"wb\")\n",
    "pickle.dump(X_test, pickle_out, protocol=4)\n",
    "pickle_out.close()\n",
    "\n",
    "pickle_out = open(\"Y_test_3classes_DLSeclect.pickle\",\"wb\")\n",
    "pickle.dump(Y_test, pickle_out, protocol=4)\n",
    "pickle_out.close()\n",
    "\n",
    "\n",
    "'pickle success'"
   ]
  }
 ],
 "metadata": {
  "kernelspec": {
   "display_name": "Python 3 (ipykernel)",
   "language": "python",
   "name": "python3"
  },
  "language_info": {
   "codemirror_mode": {
    "name": "ipython",
    "version": 3
   },
   "file_extension": ".py",
   "mimetype": "text/x-python",
   "name": "python",
   "nbconvert_exporter": "python",
   "pygments_lexer": "ipython3",
   "version": "3.7.9"
  }
 },
 "nbformat": 4,
 "nbformat_minor": 5
}
